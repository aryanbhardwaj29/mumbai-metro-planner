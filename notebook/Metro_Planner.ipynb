{
 "cells": [
  {
   "cell_type": "code",
   "execution_count": 1,
   "id": "e5c4767c-e3fa-4cbf-8698-718910a7e5b4",
   "metadata": {},
   "outputs": [
    {
     "name": "stdout",
     "output_type": "stream",
     "text": [
      "Packages checked/installed.\n"
     ]
    }
   ],
   "source": [
    "!pip install geopy requests --quiet\n",
    "print(\"Packages checked/installed.\")\n"
   ]
  },
  {
   "cell_type": "code",
   "execution_count": 2,
   "id": "b5865a84-fd00-435b-be0a-acd56e93b267",
   "metadata": {},
   "outputs": [
    {
     "name": "stdout",
     "output_type": "stream",
     "text": [
      "Loaded 14 stations. Example: [('Versova', {'coords': (19.1509, 72.8236), 'lines': {'Line 1 (Blue)'}})]\n"
     ]
    }
   ],
   "source": [
    "import json, os\n",
    "\n",
    "DATA_PATH = r\"C:\\Users\\barya\\metro_project\\.ipynb_checkpoints\\stations.json\"\n",
    "\n",
    "if not os.path.exists(DATA_PATH):\n",
    "    raise FileNotFoundError(f\"stations.json not found at {DATA_PATH}. Make sure you saved it there.\")\n",
    "\n",
    "with open(DATA_PATH, \"r\") as f:\n",
    "    raw = json.load(f)\n",
    "\n",
    "stations = {}\n",
    "for name, info in raw.items():\n",
    "    stations[name] = {\n",
    "        \"coords\": (info[\"lat\"], info[\"lon\"]),\n",
    "        \"lines\": set(info.get(\"lines\", []))\n",
    "    }\n",
    "\n",
    "print(\"Loaded\", len(stations), \"stations. Example:\", list(stations.items())[:1])\n"
   ]
  },
  {
   "cell_type": "code",
   "execution_count": 4,
   "id": "302252cb-c9d9-44bc-a7a8-33d4c682358c",
   "metadata": {},
   "outputs": [],
   "source": [
    "# Cell 3\n",
    "import math, heapq\n",
    "from collections import defaultdict\n",
    "\n",
    "def haversine_km(a, b):\n",
    "    lat1, lon1 = a; lat2, lon2 = b\n",
    "    R = 6371.0\n",
    "    phi1 = math.radians(lat1); phi2 = math.radians(lat2)\n",
    "    dphi = math.radians(lat2 - lat1); dlambda = math.radians(lon2 - lon1)\n",
    "    x = math.sin(dphi/2)**2 + math.cos(phi1)*math.cos(phi2)*math.sin(dlambda/2)**2\n",
    "    return 2 * R * math.asin(math.sqrt(x))\n",
    "\n",
    "def dijkstra(graph, source, target):\n",
    "    pq = [(0, source)]; dist = {source: 0}; prev = {}\n",
    "    while pq:\n",
    "        d,u = heapq.heappop(pq)\n",
    "        if u == target: break\n",
    "        if d > dist.get(u, 1e18): continue\n",
    "        for v,w in graph.get(u, []):\n",
    "            nd = d + w\n",
    "            if nd < dist.get(v, 1e18):\n",
    "                dist[v] = nd; prev[v] = u\n",
    "                heapq.heappush(pq, (nd, v))\n",
    "    if target not in dist:\n",
    "        return None, None\n",
    "    path = []\n",
    "    cur = target\n",
    "    while cur != source:\n",
    "        path.append(cur)\n",
    "        cur = prev[cur]\n",
    "    path.append(source)\n",
    "    path.reverse()\n",
    "    return path, dist[target]\n",
    "\n",
    "def fare_from_distance_km(km):\n",
    "    slabs = [(3,10),(12,20),(18,30),(24,40),(30,50),(36,60),(42,70)]\n",
    "    for limit,fare in slabs:\n",
    "        if km <= limit: return fare\n",
    "    return 80\n",
    "\n",
    "def find_nearest_station(latlon):\n",
    "    best=None; bestd=1e18\n",
    "    for name,info in stations.items():\n",
    "        d = haversine_km(latlon, info[\"coords\"])\n",
    "        if d < bestd:\n",
    "            best, bestd = name, d\n",
    "    return best, bestd\n"
   ]
  },
  {
   "cell_type": "code",
   "execution_count": 5,
   "id": "6131330f-043f-41aa-9ccc-63aba15d111c",
   "metadata": {},
   "outputs": [
    {
     "name": "stdout",
     "output_type": "stream",
     "text": [
      "Graph has 14 stations (nodes). Example neighbors for D N Nagar -> [('Azad Nagar', 3.0512218890264156), ('Andheri', 0.033422362675360626), ('Andheri West', 1.0611200379969912)]\n"
     ]
    }
   ],
   "source": [
    "# Cell 4\n",
    "LINES = {\n",
    "    \"Line 1 (Blue)\": [\"Versova\",\"Azad Nagar\",\"D N Nagar\",\"Andheri\",\"Chakala (Airport Road)\",\"Marol Naka\",\"Saki Naka\",\"Asalpha\",\"Jagruti Nagar\",\"Ghatkopar\"],\n",
    "    \"Line 2A (Yellow)\": [\"Dahisar East\",\"Borivali\",\"Malad\",\"Andheri West\",\"D N Nagar\"]\n",
    "}\n",
    "\n",
    "graph = defaultdict(list)\n",
    "for line_name, seq in LINES.items():\n",
    "    filtered = [s for s in seq if s in stations]   # ignore any missing stations\n",
    "    for i in range(len(filtered)-1):\n",
    "        a,b = filtered[i], filtered[i+1]\n",
    "        d = haversine_km(stations[a][\"coords\"], stations[b][\"coords\"])\n",
    "        graph[a].append((b,d)); graph[b].append((a,d))\n",
    "\n",
    "print(\"Graph has\", len(graph), \"stations (nodes). Example neighbors for D N Nagar ->\", graph.get(\"D N Nagar\"))\n"
   ]
  },
  {
   "cell_type": "code",
   "execution_count": 7,
   "id": "3328b4a9-e205-4d2d-8c56-dff4221bcc8d",
   "metadata": {},
   "outputs": [
    {
     "name": "stdout",
     "output_type": "stream",
     "text": [
      "Detected location by IP (approx): (20.2724, 85.8338)\n"
     ]
    },
    {
     "name": "stdin",
     "output_type": "stream",
     "text": [
      "Use this as your current location? (y/n) [y]:  N\n",
      "Enter your location as 'lat,lon' OR an address (e.g., 'Andheri West'):  Marol Naka\n"
     ]
    },
    {
     "name": "stdout",
     "output_type": "stream",
     "text": [
      "Nearest origin station: Marol Naka (996 m away)\n"
     ]
    },
    {
     "name": "stdin",
     "output_type": "stream",
     "text": [
      "Enter your destination station name OR address:  Malad\n"
     ]
    },
    {
     "name": "stdout",
     "output_type": "stream",
     "text": [
      "\n",
      "=== ROUTE ===\n",
      "Marol Naka -> Chakala (Airport Road) -> Andheri -> D N Nagar -> Andheri West -> Malad\n",
      "Distance: 8.79 km, Time (approx): 18 min, Fare: ₹20\n",
      "\n",
      "Step-by-step:\n",
      " - Take Line 1 (Blue) from Marol Naka -> D N Nagar (3 stops, ~3.04 km)\n",
      " - Take Line 2A (Yellow) from D N Nagar -> Malad (2 stops, ~5.75 km)\n"
     ]
    }
   ],
   "source": [
    "# Cell 5 - interactive route finder\n",
    "import requests\n",
    "from geopy.geocoders import Nominatim\n",
    "from geopy.exc import GeocoderTimedOut\n",
    "import time\n",
    "\n",
    "def geocode_address(addr):\n",
    "    geolocator = Nominatim(user_agent=\"metro-notebook\")\n",
    "    try:\n",
    "        loc = geolocator.geocode(addr + \" Mumbai\", timeout=10)\n",
    "        if loc: return (loc.latitude, loc.longitude)\n",
    "    except GeocoderTimedOut:\n",
    "        time.sleep(1)\n",
    "    return None\n",
    "\n",
    "def deduce_segments(path):\n",
    "    if not path: return []\n",
    "    segments = []\n",
    "    current_line = None\n",
    "    seg_stations = [path[0]]\n",
    "    for i in range(len(path)-1):\n",
    "        s,t = path[i], path[i+1]\n",
    "        common = stations[s][\"lines\"].intersection(stations[t][\"lines\"])\n",
    "        chosen_line = next(iter(common)) if common else \"Unknown\"\n",
    "        if chosen_line != current_line:\n",
    "            if current_line is not None:\n",
    "                segments.append((current_line, seg_stations))\n",
    "            current_line = chosen_line\n",
    "            seg_stations = [s, t]\n",
    "        else:\n",
    "            seg_stations.append(t)\n",
    "    segments.append((current_line, seg_stations))\n",
    "    return segments\n",
    "\n",
    "# 1) detect location by IP (quick) or manual\n",
    "def get_ip_location():\n",
    "    try:\n",
    "        r = requests.get(\"https://ipinfo.io/json\", timeout=5); js=r.json()\n",
    "        if \"loc\" in js: return tuple(map(float, js[\"loc\"].split(\",\")))\n",
    "    except Exception:\n",
    "        return None\n",
    "\n",
    "ip_loc = get_ip_location()\n",
    "if ip_loc:\n",
    "    print(\"Detected location by IP (approx):\", ip_loc)\n",
    "    use = input(\"Use this as your current location? (y/n) [y]: \").strip().lower() or \"y\"\n",
    "else:\n",
    "    print(\"Could not auto-detect your location.\")\n",
    "\n",
    "if ip_loc and use == \"y\":\n",
    "    user_loc = ip_loc\n",
    "else:\n",
    "    s = input(\"Enter your location as 'lat,lon' OR an address (e.g., 'Andheri West'): \").strip()\n",
    "    if \",\" in s:\n",
    "        user_loc = tuple(map(float, s.split(\",\")))\n",
    "    else:\n",
    "        g = geocode_address(s)\n",
    "        if not g:\n",
    "            print(\"Couldn't geocode. Please enter lat,lon format (e.g., 19.12,72.84)\")\n",
    "            raise SystemExit\n",
    "        user_loc = g\n",
    "\n",
    "orig, od = find_nearest_station(user_loc)\n",
    "print(f\"Nearest origin station: {orig} ({od*1000:.0f} m away)\")\n",
    "\n",
    "# 2) destination\n",
    "dest_input = input(\"Enter your destination station name OR address: \").strip()\n",
    "if dest_input in stations:\n",
    "    dest_station = dest_input\n",
    "else:\n",
    "    g = geocode_address(dest_input)\n",
    "    if not g:\n",
    "        print(\"Couldn't geocode destination. Try a station name from the list.\")\n",
    "        raise SystemExit\n",
    "    dest_station, dd = find_nearest_station(g)\n",
    "    print(f\"Nearest metro station to destination: {dest_station} ({dd*1000:.0f} m away)\")\n",
    "\n",
    "# 3) path\n",
    "if orig not in graph or dest_station not in graph:\n",
    "    print(\"Either origin or destination not in built graph. Make sure stations and LINES match.\")\n",
    "else:\n",
    "    path, total_km = dijkstra(graph, orig, dest_station)\n",
    "    if not path:\n",
    "        print(\"No path found (graph incomplete).\")\n",
    "    else:\n",
    "        total_time_min = total_km / 30.0 * 60.0\n",
    "        fare = fare_from_distance_km(total_km)\n",
    "        print(\"\\n=== ROUTE ===\")\n",
    "        print(\" -> \".join(path))\n",
    "        print(f\"Distance: {total_km:.2f} km, Time (approx): {total_time_min:.0f} min, Fare: ₹{fare}\\n\")\n",
    "        segs = deduce_segments(path)\n",
    "        print(\"Step-by-step:\")\n",
    "        for ln, sts in segs:\n",
    "            segdist = sum(haversine_km(stations[sts[i]][\"coords\"], stations[sts[i+1]][\"coords\"]) for i in range(len(sts)-1))\n",
    "            print(f\" - Take {ln} from {sts[0]} -> {sts[-1]} ({len(sts)-1} stops, ~{segdist:.2f} km)\")\n"
   ]
  },
  {
   "cell_type": "code",
   "execution_count": 8,
   "id": "518ef2be-fbe1-4958-b4c2-d601e44bcd98",
   "metadata": {},
   "outputs": [
    {
     "name": "stdout",
     "output_type": "stream",
     "text": [
      "Saved to ../outputs\\last_route.json\n"
     ]
    }
   ],
   "source": [
    "import os\n",
    "out_dir = \"../outputs\"\n",
    "os.makedirs(out_dir, exist_ok=True)  # Create folder if it doesn't exist\n",
    "\n",
    "out_path = os.path.join(out_dir, \"last_route.json\")\n",
    "with open(out_path, \"w\") as f:\n",
    "    json.dump(out, f, indent=2)\n",
    "\n",
    "print(\"Saved to\", out_path)\n"
   ]
  },
  {
   "cell_type": "code",
   "execution_count": null,
   "id": "81c0a4b4-96dc-4924-8926-2e5271f7ab2d",
   "metadata": {},
   "outputs": [],
   "source": []
  }
 ],
 "metadata": {
  "kernelspec": {
   "display_name": "Python 3 (ipykernel)",
   "language": "python",
   "name": "python3"
  },
  "language_info": {
   "codemirror_mode": {
    "name": "ipython",
    "version": 3
   },
   "file_extension": ".py",
   "mimetype": "text/x-python",
   "name": "python",
   "nbconvert_exporter": "python",
   "pygments_lexer": "ipython3",
   "version": "3.12.7"
  }
 },
 "nbformat": 4,
 "nbformat_minor": 5
}
